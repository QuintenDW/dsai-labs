{
 "cells": [
  {
   "attachments": {},
   "cell_type": "markdown",
   "metadata": {},
   "source": [
    "# Chapter 1 - Reflection exercises\n",
    "\n",
    "## Basic concepts in research\n",
    "\n",
    "### Exercise 1 - Retrieval practice: measurement levels\n",
    "\n",
    "Measurement levels are an important concept in descriptive statistics because most visualization and analysis techniques depend on this. It is therefore important to know and understand the different measurement levels.\n",
    "\n",
    "Retrieval practice is a study technique that has been scientifically proven to be effective and which leads to improved learning outcomes (Roediger & Karpicke, 2006).\n",
    "\n",
    "1. Take a blank sheet of paper and try to reproduce an overview of all measurement levels without consulting the syllabus or other sources. Describe the specific properties for each measurement level and give some examples.\n",
    "\n",
    "2. Take enough time for this (e.g. at least 5 to 10 minutes). Do not immediately look into the syllabus, but try to remember as much as possible.\n",
    "\n",
    "    When you are done with this, indicate everything that you have noted so far with an (e.g. green) marker.\n",
    "\n",
    "    If possible, consult with a fellow student and try to complete the overview that you have each made. Mark all additions with a marker in a different color (e.g. yellow).\n",
    "\n",
    "3. Finally, verify your notes using the syllabus and correct/complete incorrect or missing information if necessary. Indicate this in a third color (e.g. orange or red).\n",
    "\n",
    "Thanks to the highlighted colors in your notes, you now have an overview of what you already know and what you need to study. Repeat this exercise a number of times during the course of the semester.  Never start by looking at the result of a previous attempt, but immediately try to retrieve as much information as possible from your memory on a blank sheet. Compare the results afterwards. You should notice that over time, you will mark more and more in green and you will use less red or even none at all."
   ]
  },
  {
   "attachments": {},
   "cell_type": "markdown",
   "metadata": {},
   "source": [
    "\n",
    "## Sampling methods and sampling errors\n",
    "\n",
    "### Exercise 2 - sampling methods\n",
    "#### Deze is verbeterd\n",
    "A researcher wants to investigate as accurately as possible the consumption habits of residents aged 18 years and up in a certain municipality with 3 residential areas. \n",
    "She distinguishes 4 age groups so she eventually has a total of 12 subgroups. From the municipality, she requests the percentual composition of the population in the city, and based on the numbers she calculated the number of respondents required for each age group. We call this type of sample a <b>quota sample </b>(verhoudingen populatie komen weer in steekproef).\n",
    "\n",
    "- Is this a random sample? Why (not)? <br />\n",
    "Ja, binnen de subgroepen wordt het willekeurig gekozen. Iedereen heeftt evenveel kans om geselecteerd te worden. Het is een aselecte. (Als online enquete zou zijn dan niet want enkel mensen met internet kunnen doen)\n",
    "- Is this sample representative of the population?<br />\n",
    "  Ja want deze heeft op basis van het percentage populatie in de stad het geschikte aantal mensen gezocht. De observaties zijn <b>gestratificeerd</b>(verhoudingen populatie komen weer in steekproef). Quota sample is een manier om dit te bekomen\n",
    "- Which types of sampling errors can occur? <br />\n",
    "Pure coincidence(puur toeval). Dit zijn willekeurige fouten (er is altijd sampling error bij elke steekproef)\n",
    "- What are the advantages and disadvantages? <br />\n",
    "Het is realistisch tov de populatie omdat het aan de hand van het percentage wordt gedaan."
   ]
  },
  {
   "attachments": {},
   "cell_type": "markdown",
   "metadata": {},
   "source": [
    "### Exercise 3 - sampling methods\n",
    "\n",
    "A research agency wants to investigate the purchasing behavior of washing products. They interrogate a number of women between 25 and 55 because they assume that these are representative of most customers.\n",
    "\n",
    "- Is this a random sample? Why (not)? <br />\n",
    "Neen, want er wordt geselecteerd op vrouwen tussen 25 en 55 op basis van de assumptie dat deze de meeste klanten voorstellen\n",
    "- Is this sample representative of the population? <br />\n",
    "Neen want we weten niet zeker of deze alle mensen voorstellen. Het is een aanname.\n",
    "- Which sampling error(s) was (were) made? <br />\n",
    "Pure coincidence + er worden mensen geselecteerd op basis van hun leeftijd\n",
    "- What improvements would you suggest for the way this sample is constructed? <br />\n",
    "In plaats van vrouwen tussen 25 en 55 eerder de mensen die effectief wasproducten kopen."
   ]
  },
  {
   "attachments": {},
   "cell_type": "markdown",
   "metadata": {},
   "source": [
    "\n",
    "### Exercise 4 - sampling methods\n",
    "#### Deze is verbeterd\n",
    "The trade union wants to investigate the working conditions of the employees of an IT company. This company has a total of 3200 employees spread over 12 branch offices.\n",
    "Because the total number of employees is quite large, 40 employees are selected at random from each branch office. The size of the sample is, therefore, n = 480.\n",
    "\n",
    "- Is this a random sample? Why (not)? <br />\n",
    "neen, Niet iedereen heeft evenveel kans om gekozen te worden want in klein kantoor meer kans om gekozen te worden terwijl bij groter minder kans\n",
    "- Is the sample representative of the population? If not, when could it be representative? <br />\n",
    "Neen, want het kan zijn dat op 1 kantoor maar 50 mensen werken terwijl bij andere 100 mensen (met andere sfeer) maar ze tellen beide evenveel mee. De kleine kantoren kunnen ovenvertegenwoordigd zijn. Het kan representatief zijn als alle branchen evenveel werknemers heeft.\n",
    "- What kind of error(s) is/are being made here? <br />\n",
    "Pure coincidence = Willekeurige fouten (altijd)\n",
    "Systematische fout = Niet iedereen heeft evenveel kans, de kleine kantoren worden oververtegenwoordigd.\n",
    "- What improvements would you suggest for the way this sample is constructed? <br />\n",
    "Op basis van percentage een aantal nemen op een kantoor = <b>gestratificeerd</b> en wordt het een quota steekproef\n",
    ">\n"
   ]
  },
  {
   "attachments": {},
   "cell_type": "markdown",
   "metadata": {},
   "source": [
    "### Exercise 5 - sampling methods\n",
    "\n",
    "We want to conduct a survey into the quality of our education at Hogeschool Gent. For this purpose, the students present in a certain lecture will be questioned.\n",
    "\n",
    "- Is this a random sample? Why (not)?\n",
    "- Is the sample representative of the population?\n",
    "- What kind of error(s) is/are being made here?\n",
    "- Suppose the lecturer who teaches the subject is present during the questioning. What influence can this have and what mistake is made in this case?\n",
    "- Suppose the questioning is not held during a lecture but after an exam. What mistake can be made then?\n",
    "- What improvements would you suggest for the way this sample is constructed?"
   ]
  },
  {
   "attachments": {},
   "cell_type": "markdown",
   "metadata": {},
   "source": [
    "### Exercise 6 - Retrieval practice: sampling errors\n",
    "\n",
    "Use the procedure for retrieval practice from Exercise 1 to study the types of sampling errors. List the different sampling errors, describe each and give an example."
   ]
  }
 ],
 "metadata": {
  "kernelspec": {
   "display_name": "Python 3",
   "language": "python",
   "name": "python3"
  },
  "language_info": {
   "name": "python",
   "version": "3.11.2"
  },
  "orig_nbformat": 4,
  "vscode": {
   "interpreter": {
    "hash": "8a5edab282632443219e051e4ade2d1d5bbc671c781051bf1437897cbdfea0f1"
   }
  }
 },
 "nbformat": 4,
 "nbformat_minor": 2
}
