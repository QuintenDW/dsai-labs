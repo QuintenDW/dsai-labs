{
 "cells": [
  {
   "attachments": {},
   "cell_type": "markdown",
   "metadata": {},
   "source": [
    "# Chapter 2 - Reflection exercises\n",
    "\n",
    "## Retrieval practice\n",
    "\n",
    "### Exercise 1 - retrieval practice: analysis of 1 variable\n",
    "\n",
    "Use the procedure for retrieval practice from the similar exercises in Module 1 to study the techniques for analysis and visualization of a single variable.\n",
    "\n",
    "For each measurement level, provide:\n",
    "\n",
    "- The appropriate measures for central tendency and dispersion (name, definitions and formulas)\n",
    "- The appropriate graph types"
   ]
  },
  {
   "cell_type": "markdown",
   "metadata": {},
   "source": [
    "\n",
    "## Measures for central tendency and dispersion\n",
    "\n",
    "### Exercise 2 - sample mean and sample variance of a frequency table\n",
    "\n",
    "Consider the formulas for the sample mean $\\overline{x}$, the sample variance $s^2$ and the standard deviation $s$. How should these formulas be adapted to calculate these values when we are dealing with a frequency table? A frequency table gives an overview of how often each different value (of a qualitative variable) occurs in the sample.\n",
    "\n",
    "Apply your formula to the data in the table below:\n",
    "\n",
    "| Pins $s$ | Frequency $f_x$ |\n",
    "| :---:    | :---:           |\n",
    "| 0 |  2 |\n",
    "| 1 |  1 |\n",
    "| 2 |  2 |\n",
    "| 3 |  0 |\n",
    "| 4 |  2 |\n",
    "| 5 |  4 |\n",
    "| 6 |  9 |\n",
    "| 7 | 11 |\n",
    "| 8 | 13 |\n",
    "| 9 |  8 |\n",
    "|10 |  8 |\n",
    "\n",
    "*While playing a skittles game, the number of pins that were knocked over with each throw is recorded. For each possible score x, the number of times this score was obtained during a throw was recorded.*\n",
    "\n",
    "**Results (for your convenience):** $n = 60$, mean = 7, variance ≈ 5.83, standard deviation ≈ 2.41"
   ]
  },
  {
   "attachments": {},
   "cell_type": "markdown",
   "metadata": {},
   "source": [
    "#### Dit zijn de formules voor met een frequentietabel het te berekenen\n",
    "- Steekproefgrootte: $$n = \\sum_{x} f_x$$\n",
    "- gemiddelde: $$\\overline{x} = \\frac{\\sum_{x} x\\cdot f_x}{\\sum_{x} f_x}$$\n",
    "- variantie: $$s^2 = \\frac{\\sum_{x} (x- \\overline{x})^2 \\cdot f_x}{\\sum_{x} f_x-1}$$"
   ]
  },
  {
   "cell_type": "code",
   "execution_count": 1,
   "metadata": {},
   "outputs": [],
   "source": [
    "import numpy as np                                  # \"Scientific computing\"\n",
    "import scipy.stats as stats                         # Statistical tests\n",
    "\n",
    "import pandas as pd                                 # Data Frame\n",
    "from pandas.api.types import CategoricalDtype\n",
    "\n",
    "import matplotlib.pyplot as plt                     # Basic visualisation\n",
    "from statsmodels.graphics.mosaicplot import mosaic  # Mosaic diagram\n",
    "import seaborn as sns    "
   ]
  },
  {
   "cell_type": "code",
   "execution_count": 18,
   "metadata": {},
   "outputs": [
    {
     "name": "stdout",
     "output_type": "stream",
     "text": [
      "Gemiddelde: 7.0\n",
      "Variantie: 5.830508474576271\n",
      "Standaardafwijking 2.4146445855604237\n"
     ]
    }
   ],
   "source": [
    "x = np.array([0,1,2,3,4,5,6,7,8,9,10])\n",
    "fx = np.array([2,1,2,0,2,4,9,11,13,8,8]) #numpy array want dan je array\n",
    "#Gemiddelde je kan ook gewoon sum() gebruiken zit standaard in python\n",
    "n = np.sum(fx)\n",
    "gemiddelde = np.sum(x*fx)/n\n",
    "print(f\"Gemiddelde: {gemiddelde}\")\n",
    "#Variantie\n",
    "variantie = np.sum(fx*(x-gemiddelde)**2)/(n-1)\n",
    "print(f\"Variantie: {variantie}\")\n",
    "print(f\"Standaardafwijking {np.sqrt(variantie)}\")"
   ]
  },
  {
   "attachments": {},
   "cell_type": "markdown",
   "metadata": {},
   "source": [
    "### Exercise 3 - formula for sample variance\n",
    "\n",
    "In the formula for the sample variance, the difference between the measurement values and the mean is squared. Why? Couldn't we devise a simpler formula that is an equally good measure of the dispersion of a dataset? Here are three proposals (the third one is the \"real\" formula):\n",
    "\n",
    "1. $s_{1}^{2} = \\frac{1}{n-1} \\sum_{i=1}^{n} (\\overline{x} - x_i)$\n",
    "2. $s_{2}^{2} = \\frac{1}{n-1} \\sum_{i=1}^{n} \\left| \\overline{x} - x_i\\right|$\n",
    "3. $s_{3}^{2} = \\frac{1}{n-1} \\sum_{i=1}^{n} (\\overline{x} - x_i)^{2}$\n",
    "\n",
    "Apply each formula to the two data sets below. By comparing the results, you should be able to decide whether the formulas are suitable as a dispersion measure.\n",
    "\n",
    "- $X = \\left\\{ 4,4,-4,-4 \\right\\}$\n",
    "- $Y = \\left\\{ 7,1,-6,-2 \\right\\}$"
   ]
  },
  {
   "cell_type": "code",
   "execution_count": null,
   "metadata": {},
   "outputs": [],
   "source": [
    "x = np.array([4,4,-4,-4])\n",
    "y = np.array([7,1,-6,-2])"
   ]
  },
  {
   "attachments": {},
   "cell_type": "markdown",
   "metadata": {},
   "source": [
    "### Exercise 4 - coefficient of variation\n",
    "\n",
    "On your own, look up what the coefficient of variation for a sample is. How is it defined for a full population and what could you do with it?\n"
   ]
  },
  {
   "attachments": {},
   "cell_type": "markdown",
   "metadata": {},
   "source": [
    "##  Visualisation Techniques\n",
    "\n",
    "### Exercise 5 - data visualisation hall of shame\n",
    "\n",
    "Look for examples of bad graphs in news reports, articles, interest group publications, etc.\n",
    "\n",
    "Why is the chosen graph \"bad\"? What mistakes are being made? What changes should be made to correct the graph? Who will find the most ridiculous example of a bad graph within the class group?"
   ]
  }
 ],
 "metadata": {
  "kernelspec": {
   "display_name": "Python 3",
   "language": "python",
   "name": "python3"
  },
  "language_info": {
   "codemirror_mode": {
    "name": "ipython",
    "version": 3
   },
   "file_extension": ".py",
   "mimetype": "text/x-python",
   "name": "python",
   "nbconvert_exporter": "python",
   "pygments_lexer": "ipython3",
   "version": "3.11.2"
  },
  "orig_nbformat": 4
 },
 "nbformat": 4,
 "nbformat_minor": 2
}
